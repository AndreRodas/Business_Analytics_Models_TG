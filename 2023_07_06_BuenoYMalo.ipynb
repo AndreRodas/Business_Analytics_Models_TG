{
  "nbformat": 4,
  "nbformat_minor": 0,
  "metadata": {
    "colab": {
      "provenance": [],
      "include_colab_link": true
    },
    "kernelspec": {
      "name": "python3",
      "display_name": "Python 3"
    },
    "language_info": {
      "name": "python"
    }
  },
  "cells": [
    {
      "cell_type": "markdown",
      "metadata": {
        "id": "view-in-github",
        "colab_type": "text"
      },
      "source": [
        "<a href=\"https://colab.research.google.com/github/AndreRodas/Business_Analytics_Models_TG/blob/main/2023_07_06_BuenoYMalo.ipynb\" target=\"_parent\"><img src=\"https://colab.research.google.com/assets/colab-badge.svg\" alt=\"Open In Colab\"/></a>"
      ]
    },
    {
      "cell_type": "markdown",
      "source": [
        "## Ejemplo de la forma que NO debe hacerse"
      ],
      "metadata": {
        "id": "FQvzlUZL-862"
      }
    },
    {
      "cell_type": "code",
      "execution_count": 1,
      "metadata": {
        "colab": {
          "base_uri": "https://localhost:8080/"
        },
        "id": "n9dLMCGiz8F5",
        "outputId": "d5a18315-9b96-401e-f5d5-23bca8cb84a1"
      },
      "outputs": [
        {
          "output_type": "stream",
          "name": "stdout",
          "text": [
            "Collecting pulp\n",
            "  Downloading PuLP-2.7.0-py3-none-any.whl (14.3 MB)\n",
            "\u001b[2K     \u001b[90m━━━━━━━━━━━━━━━━━━━━━━━━━━━━━━━━━━━━━━━━\u001b[0m \u001b[32m14.3/14.3 MB\u001b[0m \u001b[31m53.3 MB/s\u001b[0m eta \u001b[36m0:00:00\u001b[0m\n",
            "\u001b[?25hInstalling collected packages: pulp\n",
            "Successfully installed pulp-2.7.0\n"
          ]
        }
      ],
      "source": [
        "!pip install pulp"
      ]
    },
    {
      "cell_type": "code",
      "source": [
        "from pulp import *"
      ],
      "metadata": {
        "id": "Qwwrf2gFz-1B"
      },
      "execution_count": 2,
      "outputs": []
    },
    {
      "cell_type": "code",
      "source": [
        "malo = LpProblem(\"MalEjemplo\", LpMaximize)"
      ],
      "metadata": {
        "id": "gLACys-X0EjP"
      },
      "execution_count": 3,
      "outputs": []
    },
    {
      "cell_type": "code",
      "source": [
        "x1 = LpVariable(\"Variable1\", lowBound=0, upBound=None, cat=\"Continuous\")\n",
        "x2 = LpVariable(\"Variable2\", lowBound=0, upBound=None, cat=\"Continuous\")"
      ],
      "metadata": {
        "id": "6011Okp40PUf"
      },
      "execution_count": 4,
      "outputs": []
    },
    {
      "cell_type": "code",
      "source": [
        "malo += 3*x1 + 4*x2  ## Función objetivo"
      ],
      "metadata": {
        "id": "SCMxiOZI0aJH"
      },
      "execution_count": 5,
      "outputs": []
    },
    {
      "cell_type": "code",
      "source": [
        "malo += x1 + x2 <= 1600\n",
        "malo += x1 >= 500\n",
        "malo += 0.24*x1 + 0.48*x2 <= 480"
      ],
      "metadata": {
        "id": "PP1BBYgX1Edo"
      },
      "execution_count": 6,
      "outputs": []
    },
    {
      "cell_type": "code",
      "source": [
        "malo"
      ],
      "metadata": {
        "colab": {
          "base_uri": "https://localhost:8080/"
        },
        "id": "kfCj6q6J1oY9",
        "outputId": "d854ea34-6251-4cf4-aa37-f661ed530c59"
      },
      "execution_count": 7,
      "outputs": [
        {
          "output_type": "execute_result",
          "data": {
            "text/plain": [
              "MalEjemplo:\n",
              "MAXIMIZE\n",
              "3*Variable1 + 4*Variable2 + 0\n",
              "SUBJECT TO\n",
              "_C1: Variable1 + Variable2 <= 1600\n",
              "\n",
              "_C2: Variable1 >= 500\n",
              "\n",
              "_C3: 0.24 Variable1 + 0.48 Variable2 <= 480\n",
              "\n",
              "VARIABLES\n",
              "Variable1 Continuous\n",
              "Variable2 Continuous"
            ]
          },
          "metadata": {},
          "execution_count": 7
        }
      ]
    },
    {
      "cell_type": "code",
      "source": [
        "malo.solve()"
      ],
      "metadata": {
        "colab": {
          "base_uri": "https://localhost:8080/"
        },
        "id": "ho8ZxyRT1rxd",
        "outputId": "e16bb5a1-8cce-4cde-e0a7-f7b6e1e4a71d"
      },
      "execution_count": 8,
      "outputs": [
        {
          "output_type": "execute_result",
          "data": {
            "text/plain": [
              "1"
            ]
          },
          "metadata": {},
          "execution_count": 8
        }
      ]
    },
    {
      "cell_type": "code",
      "source": [
        "malo.objective.value()"
      ],
      "metadata": {
        "colab": {
          "base_uri": "https://localhost:8080/"
        },
        "id": "MLWq_nUn2LkF",
        "outputId": "0fd4ed9c-1187-4667-f585-61734cb7b8d3"
      },
      "execution_count": 9,
      "outputs": [
        {
          "output_type": "execute_result",
          "data": {
            "text/plain": [
              "5200.0"
            ]
          },
          "metadata": {},
          "execution_count": 9
        }
      ]
    },
    {
      "cell_type": "code",
      "source": [
        "x1.value()"
      ],
      "metadata": {
        "colab": {
          "base_uri": "https://localhost:8080/"
        },
        "id": "hHXg5xhg2PZP",
        "outputId": "03d81abc-9822-42bf-c6ed-6bd9b714988b"
      },
      "execution_count": 10,
      "outputs": [
        {
          "output_type": "execute_result",
          "data": {
            "text/plain": [
              "1200.0"
            ]
          },
          "metadata": {},
          "execution_count": 10
        }
      ]
    },
    {
      "cell_type": "code",
      "source": [
        "x2.value()"
      ],
      "metadata": {
        "colab": {
          "base_uri": "https://localhost:8080/"
        },
        "id": "JFADB0oj2SZY",
        "outputId": "e5605f7a-f895-4efc-9d23-2678276bd292"
      },
      "execution_count": 12,
      "outputs": [
        {
          "output_type": "execute_result",
          "data": {
            "text/plain": [
              "400.0"
            ]
          },
          "metadata": {},
          "execution_count": 12
        }
      ]
    },
    {
      "cell_type": "markdown",
      "source": [
        "## Forma correcta de modelar"
      ],
      "metadata": {
        "id": "KwAUNdDi_LvC"
      }
    },
    {
      "cell_type": "code",
      "source": [
        "import numpy as np"
      ],
      "metadata": {
        "id": "OmLyWe9s2T-G"
      },
      "execution_count": 13,
      "outputs": []
    },
    {
      "cell_type": "code",
      "source": [
        "coef =  np.array([3,4])\n",
        "mat =  np.array([[1,1],[-1,0],[0.24,0.48]])\n",
        "ld = np.array([1600,-500,480])"
      ],
      "metadata": {
        "id": "7vhcChNc2pp7"
      },
      "execution_count": 14,
      "outputs": []
    },
    {
      "cell_type": "code",
      "source": [
        "numvar =  len(coef)\n",
        "numres =  mat.shape[0]"
      ],
      "metadata": {
        "id": "Y34o32DB5HfQ"
      },
      "execution_count": 15,
      "outputs": []
    },
    {
      "cell_type": "code",
      "source": [
        "bueno = LpProblem(\"BuenEjemplo\", LpMaximize)"
      ],
      "metadata": {
        "id": "DcFcrd985hMr"
      },
      "execution_count": 16,
      "outputs": []
    },
    {
      "cell_type": "code",
      "source": [
        "X =  LpVariable.matrix(\"Variable\",range(numvar),lowBound=0,upBound=None,cat=\"Continuous\")"
      ],
      "metadata": {
        "id": "I048wkFD52dw"
      },
      "execution_count": 17,
      "outputs": []
    },
    {
      "cell_type": "code",
      "source": [
        "X"
      ],
      "metadata": {
        "colab": {
          "base_uri": "https://localhost:8080/"
        },
        "id": "l0XVReq46JLP",
        "outputId": "12fbb5e0-5ad6-456d-b9ab-cf462969b5d8"
      },
      "execution_count": 18,
      "outputs": [
        {
          "output_type": "execute_result",
          "data": {
            "text/plain": [
              "[Variable_0, Variable_1]"
            ]
          },
          "metadata": {},
          "execution_count": 18
        }
      ]
    },
    {
      "cell_type": "code",
      "source": [
        "sum([x for x in range(100)])"
      ],
      "metadata": {
        "colab": {
          "base_uri": "https://localhost:8080/"
        },
        "id": "oZkJWrJn5Jzd",
        "outputId": "f6de24f9-e6e5-4420-8a8d-815af72bc484"
      },
      "execution_count": 20,
      "outputs": [
        {
          "output_type": "execute_result",
          "data": {
            "text/plain": [
              "4950"
            ]
          },
          "metadata": {},
          "execution_count": 20
        }
      ]
    },
    {
      "cell_type": "code",
      "source": [
        "bueno += lpSum([coef[i]*X[i] for i in range(numvar)]) ## Funcion objetivo"
      ],
      "metadata": {
        "id": "ISdob9YQ6MPo"
      },
      "execution_count": 21,
      "outputs": []
    },
    {
      "cell_type": "code",
      "source": [
        "for i in range(numres):\n",
        "    bueno +=  lpSum([mat[i,j]*X[j] for j in range(numvar)]) <= ld[i]"
      ],
      "metadata": {
        "id": "Vv0bjk607Gx9"
      },
      "execution_count": 22,
      "outputs": []
    },
    {
      "cell_type": "code",
      "source": [
        "bueno"
      ],
      "metadata": {
        "colab": {
          "base_uri": "https://localhost:8080/"
        },
        "id": "L5TjJejh7W87",
        "outputId": "8c66a915-4a8d-417d-a5af-ab607494b6a9"
      },
      "execution_count": 24,
      "outputs": [
        {
          "output_type": "execute_result",
          "data": {
            "text/plain": [
              "BuenEjemplo:\n",
              "MAXIMIZE\n",
              "3*Variable_0 + 4*Variable_1 + 0\n",
              "SUBJECT TO\n",
              "_C1: Variable_0 + Variable_1 <= 1600\n",
              "\n",
              "_C2: - Variable_0 <= -500\n",
              "\n",
              "_C3: 0.24 Variable_0 + 0.48 Variable_1 <= 480\n",
              "\n",
              "VARIABLES\n",
              "Variable_0 Continuous\n",
              "Variable_1 Continuous"
            ]
          },
          "metadata": {},
          "execution_count": 24
        }
      ]
    },
    {
      "cell_type": "code",
      "source": [
        "bueno.solve()"
      ],
      "metadata": {
        "colab": {
          "base_uri": "https://localhost:8080/"
        },
        "id": "oKgZrJOQ7hEh",
        "outputId": "4690d2c9-de7a-44d3-acc7-34d33b187688"
      },
      "execution_count": 25,
      "outputs": [
        {
          "output_type": "execute_result",
          "data": {
            "text/plain": [
              "1"
            ]
          },
          "metadata": {},
          "execution_count": 25
        }
      ]
    },
    {
      "cell_type": "code",
      "source": [
        "bueno.objective.value()"
      ],
      "metadata": {
        "colab": {
          "base_uri": "https://localhost:8080/"
        },
        "id": "VGfyuRNI7qdR",
        "outputId": "08494d98-1ec9-4235-ac01-11bc1372564e"
      },
      "execution_count": 26,
      "outputs": [
        {
          "output_type": "execute_result",
          "data": {
            "text/plain": [
              "5200.0"
            ]
          },
          "metadata": {},
          "execution_count": 26
        }
      ]
    },
    {
      "cell_type": "code",
      "source": [
        "for x in bueno.variables():\n",
        "    print(x.name, x.varValue)"
      ],
      "metadata": {
        "colab": {
          "base_uri": "https://localhost:8080/"
        },
        "id": "i24Fa-JJ7vhZ",
        "outputId": "03ed1695-4f1c-4c59-964c-7a046c971e72"
      },
      "execution_count": 27,
      "outputs": [
        {
          "output_type": "stream",
          "name": "stdout",
          "text": [
            "Variable_0 1200.0\n",
            "Variable_1 400.0\n"
          ]
        }
      ]
    }
  ]
}